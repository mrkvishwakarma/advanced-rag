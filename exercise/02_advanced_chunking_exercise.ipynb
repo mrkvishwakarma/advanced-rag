{
 "cells": [
  {
   "cell_type": "markdown",
   "metadata": {},
   "source": [
    "# Advanced Chunking Exercise\n",
    "\n",
    "You will implement a RAG application for long and messy legal documents. You will implement the best practices you learned so far, including semantic chunking, and chunk enrichment. Then, you will implement semantic search and response generation with citation to the original documents."
   ]
  },
  {
   "cell_type": "markdown",
   "metadata": {},
   "source": [
    "### Visual improvements\n",
    "\n",
    "We will use [rich library](https://github.com/Textualize/rich) to make the output more readable, and supress warning messages."
   ]
  },
  {
   "cell_type": "code",
   "execution_count": 1,
   "metadata": {},
   "outputs": [],
   "source": [
    "from rich.console import Console\n",
    "from rich_theme_manager import Theme, ThemeManager\n",
    "import pathlib\n",
    "\n",
    "theme_dir = pathlib.Path(\"../themes\")\n",
    "theme_manager = ThemeManager(theme_dir=theme_dir)\n",
    "dark = theme_manager.get(\"dark\")\n",
    "\n",
    "# Create a console with the dark theme\n",
    "console = Console(theme=dark)"
   ]
  },
  {
   "cell_type": "code",
   "execution_count": 2,
   "metadata": {},
   "outputs": [],
   "source": [
    "import warnings\n",
    "\n",
    "# Suppress warnings\n",
    "warnings.filterwarnings('ignore')"
   ]
  },
  {
   "cell_type": "markdown",
   "metadata": {},
   "source": [
    "## Loading complex PDF documents\n",
    "\n",
    "You will load a complex legal PDF document from the [case.law](https://case.law/) website. This website has millions of legal documents, and we will load a random PDF file from that site with more than 1,000 pages. \n",
    "\n",
    "To parse the PDF file you will use a PDF processor library, [pymupdf4llm](https://pymupdf.readthedocs.io/en/latest/pymupdf4llm/), which makes it easy to extract text and other media from PDF files for RAG applications. "
   ]
  },
  {
   "cell_type": "code",
   "execution_count": null,
   "metadata": {},
   "outputs": [],
   "source": [
    "import pymupdf4llm\n",
    "\n",
    "import requests\n",
    "import os\n",
    "\n",
    "random_doc_number = 196\n",
    "url = f\"https://static.case.law/wash-app/{random_doc_number}.pdf\"\n",
    "response = requests.get(url)\n",
    "\n",
    "data_folder = \"data\"\n",
    "if not os.path.exists(data_folder):\n",
    "    os.makedirs(data_folder)\n",
    "\n",
    "with open(os.path.join(data_folder, f\"{random_doc_number}.pdf\"), \"wb\") as file:\n",
    "    file.write(response.content)\n",
    "\n",
    "md_text = pymupdf4llm.to_markdown(f\"data/{random_doc_number}.pdf\", page_chunks=True)"
   ]
  },
  {
   "cell_type": "markdown",
   "metadata": {},
   "source": [
    "### Show a ramdom page from the document\n",
    "\n",
    "Let's check a random page from the PDF document and print its image and the extracted text."
   ]
  },
  {
   "cell_type": "code",
   "execution_count": 5,
   "metadata": {},
   "outputs": [
    {
     "data": {
      "text/html": [
       "\n",
       "<div style=\"display: flex; align-items: center;\">\n",
       "    <div style=\"flex: 60%; padding: 5px;\">\n",
       "        <img src=\"random_page.png\" style=\"max-width: 100%; height: auto;\"/>\n",
       "    </div>\n",
       "    <div style=\"flex: 40%; padding: 5px;\">\n",
       "        \n",
       "<h3>Extracted Text</h3>\n",
       "<p>trial court that the jury authorized only this latter crime as\n",
       "\n",
       "a basis for sentencing.21\n",
       "\n",
       "      - 4 The State argues that Morales’s reliance on Wil-\n",
       "\n",
       "liams-Walker is misplaced because CrR 7.8 was not dis-\n",
       "\n",
       "cussed in that case. That is the court rule on which the trial\n",
       "\n",
       "court relied to correct the jury verdict. This argument is not\n",
       "\n",
       "convincing.\n",
       "\n",
       "       - 5 First, the fact that the supreme court did not discuss\n",
       "\n",
       "CrR 7.8 in Williams-Walker is not a persuasive distinguish-\n",
       "\n",
       "ing factor. There, the court held that the jury trial right\n",
       "\n",
       "included the right to be sentenced only on a basis autho-\n",
       "\n",
       "rized by a jury’s verdict. It did so on facts that are not\n",
       "\n",
       "materially distinguishable from those here.\n",
       "\n",
       "      - 6 There, the jury verdict forms stated the “deadly\n",
       "\n",
       "weapon” enhancement, not the more serious “firearm” en-\n",
       "\n",
       "hancement. Trial courts in some of the cases sentenced on\n",
       "\n",
       "the basis of the latter, not the former, enhancement. The\n",
       "\n",
       "court held that was error.\n",
       "\n",
       "     - 7 Here, the jury verdict stated Child Molestation in\n",
       "\n",
       "the Second Degree, not the more serious Child Molestation\n",
       "\n",
       "in the First Degree. The trial court sentenced on the basis of\n",
       "\n",
       "the more serious crime, not the one in the jury verdict.\n",
       "\n",
       "     - 8 The underlying principle is the same: the jury ver-\n",
       "\n",
       "dict authorized only a sentence based on that verdict. The\n",
       "\n",
       "court based the sentence on a crime not authorized by the\n",
       "\n",
       "jury verdict.\n",
       "\n",
       "     - 9 Second, we deal later in this opinion with the ques-\n",
       "\n",
       "tion whether CrR 7.8 is a proper remedy to correct an\n",
       "\n",
       "arguably erroneous jury verdict. That discussion deals more\n",
       "\n",
       "fully with the State’s argument.\n",
       "\n",
       "     - 0 Given that there was an arguably erroneous jury\n",
       "\n",
       "verdict, we must decide whether the court had the authority\n",
       "\n",
       "to change it. Two supreme court cases provide guidance.\n",
       "\n",
       "\n",
       "-----\n",
       "\n",
       "</p>\n",
       "\n",
       "    </div>\n",
       "</div>\n"
      ],
      "text/plain": [
       "<IPython.core.display.HTML object>"
      ]
     },
     "metadata": {},
     "output_type": "display_data"
    }
   ],
   "source": [
    "import fitz\n",
    "from IPython.display import display, HTML\n",
    "\n",
    "random_page_number = 149\n",
    "## Convert the PDF to an PNG image\n",
    "pdf_path = \"data/196.pdf\"\n",
    "pdf_document = fitz.open(pdf_path)\n",
    "page = pdf_document.load_page(random_page_number)  # Page numbering starts from 0\n",
    "pix = page.get_pixmap()\n",
    "pix.save(\"random_page.png\")\n",
    "pdf_document.close()\n",
    "\n",
    "# Text content\n",
    "text_content = f\"\"\"\n",
    "<h3>Extracted Text</h3>\n",
    "<p>{md_text[random_page_number][\"text\"]}</p>\n",
    "\"\"\"\n",
    "\n",
    "# HTML layout for two columns to show the image and text side by side\n",
    "html_content = f\"\"\"\n",
    "<div style=\"display: flex; align-items: center;\">\n",
    "    <div style=\"flex: 60%; padding: 5px;\">\n",
    "        <img src=\"{'random_page.png'}\" style=\"max-width: 100%; height: auto;\"/>\n",
    "    </div>\n",
    "    <div style=\"flex: 40%; padding: 5px;\">\n",
    "        {text_content}\n",
    "    </div>\n",
    "</div>\n",
    "\"\"\"\n",
    "\n",
    "# Display in Jupyter notebook\n",
    "display(HTML(html_content))"
   ]
  },
  {
   "cell_type": "markdown",
   "metadata": {},
   "source": [
    "You can see that the PDF processor extracts additional information on the document such as title, page count, etc. We can use this metadata for the metadata of our chunks in the vector database."
   ]
  },
  {
   "cell_type": "code",
   "execution_count": null,
   "metadata": {},
   "outputs": [],
   "source": [
    "console.print(md_text[random_page_number])"
   ]
  },
  {
   "cell_type": "markdown",
   "metadata": {},
   "source": [
    "## Split the documents into Chunks\n",
    "\n",
    "You will use the statistical chunker that we used in the hands-on lab. However, we want an encoder that is trained on legal document and can generate better embedding vectors to improve the retrieval results. For this exercise you will an encoder from Hugging Face hub: https://huggingface.co/nlpaueb/legal-bert-base-uncased."
   ]
  },
  {
   "cell_type": "code",
   "execution_count": null,
   "metadata": {},
   "outputs": [],
   "source": [
    "from semantic_router.encoders import HuggingFaceEncoder\n",
    "\n",
    "encoder = HuggingFaceEncoder(\n",
    "    ### YOUR CODE HERE ###\n",
    ")\n",
    "console.print(encoder)\n"
   ]
  },
  {
   "cell_type": "code",
   "execution_count": 7,
   "metadata": {},
   "outputs": [
    {
     "data": {
      "text/html": [
       "<pre style=\"white-space:pre;overflow-x:auto;line-height:normal;font-family:Menlo,'DejaVu Sans Mono',consolas,'Courier New',monospace\"><span style=\"color: #ffff00; text-decoration-color: #ffff00\">StatisticalChunker</span><span style=\"font-weight: bold\">(</span>\n",
       "    <span style=\"color: #e87d3e; text-decoration-color: #e87d3e; font-weight: bold\">name</span>=<span style=\"color: #00ff00; text-decoration-color: #00ff00\">'statistical_chunker'</span>,\n",
       "    <span style=\"color: #e87d3e; text-decoration-color: #e87d3e; font-weight: bold\">encoder</span>=<span style=\"color: #ffff00; text-decoration-color: #ffff00\">HuggingFaceEncoder</span><span style=\"font-weight: bold\">(</span>\n",
       "        <span style=\"color: #e87d3e; text-decoration-color: #e87d3e; font-weight: bold\">name</span>=<span style=\"color: #00ff00; text-decoration-color: #00ff00\">'nlpaueb/legal-bert-base-uncased'</span>,\n",
       "        <span style=\"color: #e87d3e; text-decoration-color: #e87d3e; font-weight: bold\">score_threshold</span>=<span style=\"color: #ff0000; text-decoration-color: #ff0000\">0.5</span>,\n",
       "        <span style=\"color: #e87d3e; text-decoration-color: #e87d3e; font-weight: bold\">type</span>=<span style=\"color: #00ff00; text-decoration-color: #00ff00\">'huggingface'</span>,\n",
       "        <span style=\"color: #e87d3e; text-decoration-color: #e87d3e; font-weight: bold\">tokenizer_kwargs</span>=<span style=\"font-weight: bold\">{}</span>,\n",
       "        <span style=\"color: #e87d3e; text-decoration-color: #e87d3e; font-weight: bold\">model_kwargs</span>=<span style=\"font-weight: bold\">{}</span>,\n",
       "        <span style=\"color: #e87d3e; text-decoration-color: #e87d3e; font-weight: bold\">device</span>=<span style=\"color: #00ff00; text-decoration-color: #00ff00\">'cpu'</span>\n",
       "    <span style=\"font-weight: bold\">)</span>,\n",
       "    <span style=\"color: #e87d3e; text-decoration-color: #e87d3e; font-weight: bold\">threshold_adjustment</span>=<span style=\"color: #ff0000; text-decoration-color: #ff0000\">0.01</span>,\n",
       "    <span style=\"color: #e87d3e; text-decoration-color: #e87d3e; font-weight: bold\">dynamic_threshold</span>=<span style=\"color: #00ff00; text-decoration-color: #00ff00; font-style: italic\">True</span>,\n",
       "    <span style=\"color: #e87d3e; text-decoration-color: #e87d3e; font-weight: bold\">window_size</span>=<span style=\"color: #ff0000; text-decoration-color: #ff0000\">5</span>,\n",
       "    <span style=\"color: #e87d3e; text-decoration-color: #e87d3e; font-weight: bold\">plot_chunks</span>=<span style=\"color: #ff0000; text-decoration-color: #ff0000; font-style: italic\">False</span>,\n",
       "    <span style=\"color: #e87d3e; text-decoration-color: #e87d3e; font-weight: bold\">min_split_tokens</span>=<span style=\"color: #ff0000; text-decoration-color: #ff0000\">100</span>,\n",
       "    <span style=\"color: #e87d3e; text-decoration-color: #e87d3e; font-weight: bold\">max_split_tokens</span>=<span style=\"color: #ff0000; text-decoration-color: #ff0000\">500</span>,\n",
       "    <span style=\"color: #e87d3e; text-decoration-color: #e87d3e; font-weight: bold\">split_tokens_tolerance</span>=<span style=\"color: #ff0000; text-decoration-color: #ff0000\">10</span>,\n",
       "    <span style=\"color: #e87d3e; text-decoration-color: #e87d3e; font-weight: bold\">enable_statistics</span>=<span style=\"color: #ff0000; text-decoration-color: #ff0000; font-style: italic\">False</span>\n",
       "<span style=\"font-weight: bold\">)</span>\n",
       "</pre>\n"
      ],
      "text/plain": [
       "\u001b[93mStatisticalChunker\u001b[0m\u001b[1m(\u001b[0m\n",
       "    \u001b[1;38;2;232;125;62mname\u001b[0m=\u001b[92m'statistical_chunker'\u001b[0m,\n",
       "    \u001b[1;38;2;232;125;62mencoder\u001b[0m=\u001b[93mHuggingFaceEncoder\u001b[0m\u001b[1m(\u001b[0m\n",
       "        \u001b[1;38;2;232;125;62mname\u001b[0m=\u001b[92m'nlpaueb/legal-bert-base-uncased'\u001b[0m,\n",
       "        \u001b[1;38;2;232;125;62mscore_threshold\u001b[0m=\u001b[91m0\u001b[0m\u001b[91m.5\u001b[0m,\n",
       "        \u001b[1;38;2;232;125;62mtype\u001b[0m=\u001b[92m'huggingface'\u001b[0m,\n",
       "        \u001b[1;38;2;232;125;62mtokenizer_kwargs\u001b[0m=\u001b[1m{\u001b[0m\u001b[1m}\u001b[0m,\n",
       "        \u001b[1;38;2;232;125;62mmodel_kwargs\u001b[0m=\u001b[1m{\u001b[0m\u001b[1m}\u001b[0m,\n",
       "        \u001b[1;38;2;232;125;62mdevice\u001b[0m=\u001b[92m'cpu'\u001b[0m\n",
       "    \u001b[1m)\u001b[0m,\n",
       "    \u001b[1;38;2;232;125;62mthreshold_adjustment\u001b[0m=\u001b[91m0\u001b[0m\u001b[91m.01\u001b[0m,\n",
       "    \u001b[1;38;2;232;125;62mdynamic_threshold\u001b[0m=\u001b[3;92mTrue\u001b[0m,\n",
       "    \u001b[1;38;2;232;125;62mwindow_size\u001b[0m=\u001b[91m5\u001b[0m,\n",
       "    \u001b[1;38;2;232;125;62mplot_chunks\u001b[0m=\u001b[3;91mFalse\u001b[0m,\n",
       "    \u001b[1;38;2;232;125;62mmin_split_tokens\u001b[0m=\u001b[91m100\u001b[0m,\n",
       "    \u001b[1;38;2;232;125;62mmax_split_tokens\u001b[0m=\u001b[91m500\u001b[0m,\n",
       "    \u001b[1;38;2;232;125;62msplit_tokens_tolerance\u001b[0m=\u001b[91m10\u001b[0m,\n",
       "    \u001b[1;38;2;232;125;62menable_statistics\u001b[0m=\u001b[3;91mFalse\u001b[0m\n",
       "\u001b[1m)\u001b[0m\n"
      ]
     },
     "metadata": {},
     "output_type": "display_data"
    }
   ],
   "source": [
    "from semantic_chunkers import StatisticalChunker\n",
    "import logging\n",
    "\n",
    "logging.disable(logging.CRITICAL)\n",
    "\n",
    "chunker = StatisticalChunker(\n",
    "    encoder=encoder,\n",
    "    min_split_tokens=100,\n",
    "    max_split_tokens=500,\n",
    ")\n",
    "console.print(chunker)"
   ]
  },
  {
   "cell_type": "markdown",
   "metadata": {},
   "source": [
    "### Chunking the full document text\n",
    "\n",
    "We will concatenate the text from all the pages of the document. We will insert the page number between the pages to allow the retrieval and then then the generation steps to create direct citation to the relevant page in the long document."
   ]
  },
  {
   "cell_type": "code",
   "execution_count": 8,
   "metadata": {},
   "outputs": [],
   "source": [
    "concatenated_text = \" \".join([page[\"text\"] + f\"<page_break_{i}>\" for i, page in enumerate(md_text)])\n",
    "\n",
    "chunks = ### YOUR CODE HERE ###\n"
   ]
  },
  {
   "cell_type": "markdown",
   "metadata": {},
   "source": [
    "How many chunks were created?"
   ]
  },
  {
   "cell_type": "code",
   "execution_count": null,
   "metadata": {},
   "outputs": [],
   "source": [
    "### YOUR CODE HERE  ###"
   ]
  },
  {
   "cell_type": "markdown",
   "metadata": {},
   "source": [
    "Let's print a random chunk:"
   ]
  },
  {
   "cell_type": "code",
   "execution_count": 10,
   "metadata": {},
   "outputs": [
    {
     "data": {
      "text/html": [
       "<pre style=\"white-space:pre;overflow-x:auto;line-height:normal;font-family:Menlo,'DejaVu Sans Mono',consolas,'Courier New',monospace\"><span style=\"color: #ffff00; text-decoration-color: #ffff00\">Chunk</span><span style=\"font-weight: bold\">(</span>\n",
       "    <span style=\"color: #e87d3e; text-decoration-color: #e87d3e; font-weight: bold\">splits</span>=<span style=\"font-weight: bold\">[</span>\n",
       "        <span style=\"color: #00ff00; text-decoration-color: #00ff00\">'“'</span>,\n",
       "        <span style=\"color: #00ff00; text-decoration-color: #00ff00\">'Porter explained, </span><span style=\"color: #00ff00; text-decoration-color: #00ff00; font-weight: bold\">[</span><span style=\"color: #00ff00; text-decoration-color: #00ff00\">I</span><span style=\"color: #00ff00; text-decoration-color: #00ff00; font-weight: bold\">]</span><span style=\"color: #00ff00; text-decoration-color: #00ff00\">t is often our professional legal opinion'</span>,\n",
       "        <span style=\"color: #00ff00; text-decoration-color: #00ff00\">'that a loan modification is in the best interests of our'</span>,\n",
       "        <span style=\"color: #00ff00; text-decoration-color: #00ff00\">'clients.'</span>,\n",
       "        <span style=\"color: #00ff00; text-decoration-color: #00ff00\">'In such cases, it would be unethical not to assist'</span>,\n",
       "        <span style=\"color: #00ff00; text-decoration-color: #00ff00\">'clients with these services.”'</span>,\n",
       "        <span style=\"color: #00ff00; text-decoration-color: #00ff00\">'- Porter states the “mailer received with the complaint'</span>,\n",
       "        <span style=\"color: #00ff00; text-decoration-color: #00ff00\">'is the only solicitation! </span><span style=\"color: #00ff00; text-decoration-color: #00ff00; font-weight: bold\">]</span><span style=\"color: #00ff00; text-decoration-color: #00ff00\"> used by PLC in WA.” Porter'</span>,\n",
       "        <span style=\"color: #00ff00; text-decoration-color: #00ff00\">'identified eight Washington residents PLC assisted with'</span>,\n",
       "        <span style=\"color: #00ff00; text-decoration-color: #00ff00\">'residential loan modifications and provided a “copy of a'</span>,\n",
       "        <span style=\"color: #00ff00; text-decoration-color: #00ff00\">'-----'</span>,\n",
       "        <span style=\"color: #00ff00; text-decoration-color: #00ff00\">'</span><span style=\"color: #00ff00; text-decoration-color: #00ff00; font-weight: bold\">&lt;</span><span style=\"color: #7fff7f; text-decoration-color: #7fff7f\">page_break_41</span><span style=\"color: #00ff00; text-decoration-color: #00ff00; font-weight: bold\">&gt;</span><span style=\"color: #00ff00; text-decoration-color: #00ff00\"> solicitation to Washington consumers.” Porter admitted'</span>,\n",
       "        <span style=\"color: #00ff00; text-decoration-color: #00ff00\">'charging each of the eight Washington residents “$3997 </span><span style=\"color: #00ff00; text-decoration-color: #00ff00; font-weight: bold\">[</span><span style=\"color: #00ff00; text-decoration-color: #00ff00\">+</span><span style=\"color: #00ff00; text-decoration-color: #00ff00; font-weight: bold\">]</span><span style=\"color: #00ff00; text-decoration-color: #00ff00\">'</span>,\n",
       "        <span style=\"color: #00ff00; text-decoration-color: #00ff00\">'a monthly maintenance fee for loan modification services'</span>,\n",
       "        <span style=\"color: #00ff00; text-decoration-color: #00ff00\">'rendered.” Porter identified Christopher Jason Mercado as'</span>,\n",
       "        <span style=\"color: #00ff00; text-decoration-color: #00ff00\">'the Washington attorney who provided the residential loan'</span>,\n",
       "        <span style=\"color: #00ff00; text-decoration-color: #00ff00\">'modification services to Washington residents.'</span>,\n",
       "        <span style=\"color: #00ff00; text-decoration-color: #00ff00\">'- Porter claimed the attorney exemption to the Mort-'</span>,\n",
       "        <span style=\"color: #00ff00; text-decoration-color: #00ff00\">'gage Broker Practices Act </span><span style=\"color: #00ff00; text-decoration-color: #00ff00; font-weight: bold\">(</span><span style=\"color: #00ff00; text-decoration-color: #00ff00\">MBPA</span><span style=\"color: #00ff00; text-decoration-color: #00ff00; font-weight: bold\">)</span><span style=\"color: #00ff00; text-decoration-color: #00ff00\">, chapter 19.146 RCW,'</span>,\n",
       "        <span style=\"color: #00ff00; text-decoration-color: #00ff00\">'applied and filed a “Claim of Non-Applicability of the'</span>,\n",
       "        <span style=\"color: #00ff00; text-decoration-color: #00ff00\">'Mortgage Broker Practices Act.” Porter asserted PLC was'</span>,\n",
       "        <span style=\"color: #00ff00; text-decoration-color: #00ff00\">'not subject to the MBPA because “Porter Law Center assists'</span>,\n",
       "        <span style=\"color: #00ff00; text-decoration-color: #00ff00\">'clients with application for loan modification as part of the'</span>,\n",
       "        <span style=\"color: #00ff00; text-decoration-color: #00ff00\">'licensed practice of law in the State of Washington.” DFI'</span>,\n",
       "        <span style=\"color: #00ff00; text-decoration-color: #00ff00\">'investigators attempted to contact the eight Washington'</span>,\n",
       "        <span style=\"color: #00ff00; text-decoration-color: #00ff00\">'residents Porter identified and “ultimately spoke to two of'</span>\n",
       "    <span style=\"font-weight: bold\">]</span>,\n",
       "    <span style=\"color: #e87d3e; text-decoration-color: #e87d3e; font-weight: bold\">is_triggered</span>=<span style=\"color: #00ff00; text-decoration-color: #00ff00; font-style: italic\">True</span>,\n",
       "    <span style=\"color: #e87d3e; text-decoration-color: #e87d3e; font-weight: bold\">triggered_score</span>=<span style=\"color: #ff0000; text-decoration-color: #ff0000\">0.7121353335887549</span>,\n",
       "    <span style=\"color: #e87d3e; text-decoration-color: #e87d3e; font-weight: bold\">token_count</span>=<span style=\"color: #ff0000; text-decoration-color: #ff0000\">253</span>,\n",
       "    <span style=\"color: #e87d3e; text-decoration-color: #e87d3e; font-weight: bold\">metadata</span>=<span style=\"color: #dfdfdf; text-decoration-color: #dfdfdf\">None</span>\n",
       "<span style=\"font-weight: bold\">)</span>\n",
       "</pre>\n"
      ],
      "text/plain": [
       "\u001b[93mChunk\u001b[0m\u001b[1m(\u001b[0m\n",
       "    \u001b[1;38;2;232;125;62msplits\u001b[0m=\u001b[1m[\u001b[0m\n",
       "        \u001b[92m'“'\u001b[0m,\n",
       "        \u001b[92m'Porter explained, \u001b[0m\u001b[1;92m[\u001b[0m\u001b[92mI\u001b[0m\u001b[1;92m]\u001b[0m\u001b[92mt is often our professional legal opinion'\u001b[0m,\n",
       "        \u001b[92m'that a loan modification is in the best interests of our'\u001b[0m,\n",
       "        \u001b[92m'clients.'\u001b[0m,\n",
       "        \u001b[92m'In such cases, it would be unethical not to assist'\u001b[0m,\n",
       "        \u001b[92m'clients with these services.”'\u001b[0m,\n",
       "        \u001b[92m'- Porter states the “mailer received with the complaint'\u001b[0m,\n",
       "        \u001b[92m'is the only solicitation! \u001b[0m\u001b[1;92m]\u001b[0m\u001b[92m used by PLC in WA.” Porter'\u001b[0m,\n",
       "        \u001b[92m'identified eight Washington residents PLC assisted with'\u001b[0m,\n",
       "        \u001b[92m'residential loan modifications and provided a “copy of a'\u001b[0m,\n",
       "        \u001b[92m'-----'\u001b[0m,\n",
       "        \u001b[92m'\u001b[0m\u001b[1;92m<\u001b[0m\u001b[2;92mpage_break_41\u001b[0m\u001b[1;92m>\u001b[0m\u001b[92m solicitation to Washington consumers.” Porter admitted'\u001b[0m,\n",
       "        \u001b[92m'charging each of the eight Washington residents “$3997 \u001b[0m\u001b[1;92m[\u001b[0m\u001b[92m+\u001b[0m\u001b[1;92m]\u001b[0m\u001b[92m'\u001b[0m,\n",
       "        \u001b[92m'a monthly maintenance fee for loan modification services'\u001b[0m,\n",
       "        \u001b[92m'rendered.” Porter identified Christopher Jason Mercado as'\u001b[0m,\n",
       "        \u001b[92m'the Washington attorney who provided the residential loan'\u001b[0m,\n",
       "        \u001b[92m'modification services to Washington residents.'\u001b[0m,\n",
       "        \u001b[92m'- Porter claimed the attorney exemption to the Mort-'\u001b[0m,\n",
       "        \u001b[92m'gage Broker Practices Act \u001b[0m\u001b[1;92m(\u001b[0m\u001b[92mMBPA\u001b[0m\u001b[1;92m)\u001b[0m\u001b[92m, chapter 19.146 RCW,'\u001b[0m,\n",
       "        \u001b[92m'applied and filed a “Claim of Non-Applicability of the'\u001b[0m,\n",
       "        \u001b[92m'Mortgage Broker Practices Act.” Porter asserted PLC was'\u001b[0m,\n",
       "        \u001b[92m'not subject to the MBPA because “Porter Law Center assists'\u001b[0m,\n",
       "        \u001b[92m'clients with application for loan modification as part of the'\u001b[0m,\n",
       "        \u001b[92m'licensed practice of law in the State of Washington.” DFI'\u001b[0m,\n",
       "        \u001b[92m'investigators attempted to contact the eight Washington'\u001b[0m,\n",
       "        \u001b[92m'residents Porter identified and “ultimately spoke to two of'\u001b[0m\n",
       "    \u001b[1m]\u001b[0m,\n",
       "    \u001b[1;38;2;232;125;62mis_triggered\u001b[0m=\u001b[3;92mTrue\u001b[0m,\n",
       "    \u001b[1;38;2;232;125;62mtriggered_score\u001b[0m=\u001b[91m0\u001b[0m\u001b[91m.7121353335887549\u001b[0m,\n",
       "    \u001b[1;38;2;232;125;62mtoken_count\u001b[0m=\u001b[91m253\u001b[0m,\n",
       "    \u001b[1;38;2;232;125;62mmetadata\u001b[0m=\u001b[2;37mNone\u001b[0m\n",
       "\u001b[1m)\u001b[0m\n"
      ]
     },
     "metadata": {},
     "output_type": "display_data"
    }
   ],
   "source": [
    "console.print(chunks[0][5])"
   ]
  },
  {
   "cell_type": "markdown",
   "metadata": {},
   "source": [
    "What is the average numebr of tokens in the chunks?"
   ]
  },
  {
   "cell_type": "code",
   "execution_count": null,
   "metadata": {},
   "outputs": [],
   "source": [
    "### YOUR CODE HERE ###"
   ]
  },
  {
   "cell_type": "markdown",
   "metadata": {},
   "source": [
    "## Enrich the chunk with context and metadata\n",
    "\n",
    "We will iterate over all the chunks. This can take some time based on the number of chunks.\n",
    "\n",
    "Since we want to be able to process a large number documents in our RAG system, we need to create a UUID that will used as the ID of the chunk within the vector database. The UUID is comprised of the URL of the document and the chunk index. This structure allows you to get a specific chunk index directly, whick will be improtant in the augmentation phase."
   ]
  },
  {
   "cell_type": "code",
   "execution_count": 22,
   "metadata": {},
   "outputs": [
    {
     "name": "stderr",
     "output_type": "stream",
     "text": [
      "Processing chunks: 100%|██████████| 2336/2336 [03:42<00:00, 10.51it/s]\n"
     ]
    }
   ],
   "source": [
    "import uuid\n",
    "import re\n",
    "\n",
    "doc_url = url\n",
    "title = md_text[0][\"metadata\"][\"title\"]\n",
    "# Enrich the metadata with filters that are relevant for future retrieval queries.\n",
    "state = \"Washington\"\n",
    "\n",
    "from tqdm import tqdm\n",
    "\n",
    "def generate_uuid(doc_url, i):\n",
    "    return str(uuid.uuid5(uuid.NAMESPACE_URL, f\"{doc_url}/{i}\"))\n",
    "\n",
    "corpus_json = []\n",
    "for i, chunk in tqdm(enumerate(chunks[0]), total=len(chunks[0]), desc=\"Processing chunks\"):\n",
    "    chunk_text = ' '.join(chunk.splits)\n",
    "    # Extract the page number from the page breaks\n",
    "    page_match = re.search(r'<page_break_(\\d+)>', chunk_text)\n",
    "    page = page_match.group(1) if page_match else 0\n",
    "    chunk_uuid = generate_uuid(doc_url, i)\n",
    "    corpus_json.append({\n",
    "        \"id\": chunk_uuid,\n",
    "        \"document\": chunk_text,\n",
    "        # Add the title of the document to the chunk text for embedding\n",
    "        \"embedding\": encoder([f\"{title} \\n {chunk_text}\"])[0],\n",
    "        \"metadata\" : {\n",
    "            \"title\": title,\n",
    "            \"state\": state,\n",
    "            \"doc_url\": doc_url,\n",
    "            \"chunk_index\": i,\n",
    "            \"page\": page,\n",
    "        }\n",
    "    })\n"
   ]
  },
  {
   "cell_type": "markdown",
   "metadata": {},
   "source": [
    "## Loading into a Vector Database\n",
    "\n",
    "You will use a new vector data, [Chroma](https://github.com/chroma-core/chroma). It can illustrate the modularity of the RAG application, and the similar concepts across the providers."
   ]
  },
  {
   "cell_type": "markdown",
   "metadata": {},
   "source": [
    "### Creating the collection \n",
    "\n",
    "You will use the default values for this simpler exercise."
   ]
  },
  {
   "cell_type": "code",
   "execution_count": 14,
   "metadata": {},
   "outputs": [],
   "source": [
    "import chromadb\n",
    "# setup Chroma in-memory, for easy prototyping. Can add persistence easily!\n",
    "client = chromadb.Client()\n",
    "\n",
    "# Create collection. get_collection, create_collection, delete_collection also available!\n",
    "collection_name = \"legal-pdfs\"\n",
    "collection = client.get_or_create_collection(collection_name)\n"
   ]
  },
  {
   "cell_type": "markdown",
   "metadata": {},
   "source": [
    "### Unserting the documents\n",
    "\n",
    "We will use the embedding, metadata and documents that were calculated above."
   ]
  },
  {
   "cell_type": "code",
   "execution_count": 15,
   "metadata": {},
   "outputs": [],
   "source": [
    "collection.add(\n",
    "    documents=### YOUR CODE HERE ###,\n",
    "    embeddings=[obj[\"embedding\"] for obj in corpus_json],\n",
    "    metadatas=### YOUR CODE HERE ###,\n",
    "    ### YOUR CODE HERE ###\n",
    ")"
   ]
  },
  {
   "cell_type": "markdown",
   "metadata": {},
   "source": [
    "### Query the vector collection\n",
    "\n",
    "We will add an example filter to the query based on the metadata that we created for each chunk (`{\"state\": \"Washington\"}`)."
   ]
  },
  {
   "cell_type": "code",
   "execution_count": 16,
   "metadata": {},
   "outputs": [],
   "source": [
    "query_text = \"cases about loan default\"\n",
    "query_embedding = ### YOUR CODE HERE ###"
   ]
  },
  {
   "cell_type": "code",
   "execution_count": 17,
   "metadata": {},
   "outputs": [],
   "source": [
    "hits = collection.query(\n",
    "    query_embeddings=query_embedding,\n",
    "    n_results=5,\n",
    "    where={\"state\": \"Washington\"},\n",
    ")\n"
   ]
  },
  {
   "cell_type": "markdown",
   "metadata": {},
   "source": [
    "## Augmentation Step\n",
    "\n",
    "We suspect that the chunk context is too small and we want to concatenate the chunks around it, before we send the text to the generation step. "
   ]
  },
  {
   "cell_type": "code",
   "execution_count": null,
   "metadata": {},
   "outputs": [],
   "source": [
    "console.print(hits)"
   ]
  },
  {
   "cell_type": "markdown",
   "metadata": {},
   "source": [
    "### Augmenting the search result\n",
    "\n",
    "You will iterate over all the search results and prepare them to the generation step. The main augmentation is the concatenation of the sourounding chunks text."
   ]
  },
  {
   "cell_type": "code",
   "execution_count": 19,
   "metadata": {},
   "outputs": [],
   "source": [
    "# define a variable to hold the search results with specific fields\n",
    "search_results = []\n",
    "\n",
    "for document, metadata in zip(hits[\"documents\"][0], hits[\"metadatas\"][0]):\n",
    "    doc_url = metadata[\"doc_url\"]\n",
    "    chunk_index = metadata[\"chunk_index\"]\n",
    "    doc_id = generate_uuid(doc_url, chunk_index)\n",
    "    # Calculate the chunk IDs of the previous and next chunks\n",
    "    previous_chunk_id = ### YOUR CODE HERE ###\n",
    "    next_chunk_id = ### YOUR CODE HERE ###\n",
    "    # Get the chunks from the vector collection with the chunk ids.\n",
    "    previous_chunk = collection.get(### YOUR CODE HERE ###)\n",
    "    next_chunk = ### YOUR CODE HERE ###\n",
    "    search_results.append({\n",
    "        # Concatenate the previous, current, and next document chunks to form a single document\n",
    "        \"document\": f\"{previous_chunk['documents'][0]} {document} {next_chunk['documents'][0]}\",\n",
    "        \"metadata\": metadata,\n",
    "    })"
   ]
  },
  {
   "cell_type": "markdown",
   "metadata": {},
   "source": [
    "Let's print the first search result, before sending it to the generation model:"
   ]
  },
  {
   "cell_type": "code",
   "execution_count": null,
   "metadata": {},
   "outputs": [],
   "source": [
    "console.print(search_results[0])"
   ]
  },
  {
   "cell_type": "code",
   "execution_count": 22,
   "metadata": {},
   "outputs": [
    {
     "data": {
      "text/html": [
       "<pre style=\"white-space:pre;overflow-x:auto;line-height:normal;font-family:Menlo,'DejaVu Sans Mono',consolas,'Courier New',monospace\"><span style=\"color: #ffff00; text-decoration-color: #ffff00\">╭────────────────────────────────────── Reply to 'cases about loan default' ──────────────────────────────────────╮</span>\n",
       "<span style=\"color: #ffff00; text-decoration-color: #ffff00\">│</span>                                                                                                                 <span style=\"color: #ffff00; text-decoration-color: #ffff00\">│</span>\n",
       "<span style=\"color: #ffff00; text-decoration-color: #ffff00\">│</span> Here are some cases that discuss issues of loan default:                                                        <span style=\"color: #ffff00; text-decoration-color: #ffff00\">│</span>\n",
       "<span style=\"color: #ffff00; text-decoration-color: #ffff00\">│</span>                                                                                                                 <span style=\"color: #ffff00; text-decoration-color: #ffff00\">│</span>\n",
       "<span style=\"color: #ffff00; text-decoration-color: #ffff00\">│</span> 1. v. Stump: The case examines a rule in a particular context, considering related provisions and the whole     <span style=\"color: #ffff00; text-decoration-color: #ffff00\">│</span>\n",
       "<span style=\"color: #ffff00; text-decoration-color: #ffff00\">│</span> statutory or rule-making scheme. (Washington Appellate Reports volume 196, Page 684)                            <span style=\"color: #ffff00; text-decoration-color: #ffff00\">│</span>\n",
       "<span style=\"color: #ffff00; text-decoration-color: #ffff00\">│</span> [Source](https://static.case.law/wash-app/196.pdf)                                                              <span style=\"color: #ffff00; text-decoration-color: #ffff00\">│</span>\n",
       "<span style=\"color: #ffff00; text-decoration-color: #ffff00\">│</span>                                                                                                                 <span style=\"color: #ffff00; text-decoration-color: #ffff00\">│</span>\n",
       "<span style=\"color: #ffff00; text-decoration-color: #ffff00\">│</span> 2. Hassan Farah et al., v. Hertz Transporting, Inc., et al.: The details of this case aren't provided in the    <span style=\"color: #ffff00; text-decoration-color: #ffff00\">│</span>\n",
       "<span style=\"color: #ffff00; text-decoration-color: #ffff00\">│</span> given excerpt but it might be relevant for you to look up more details. (Washington Appellate Reports volume    <span style=\"color: #ffff00; text-decoration-color: #ffff00\">│</span>\n",
       "<span style=\"color: #ffff00; text-decoration-color: #ffff00\">│</span> 196, Page 205) [Source](https://static.case.law/wash-app/196.pdf)                                               <span style=\"color: #ffff00; text-decoration-color: #ffff00\">│</span>\n",
       "<span style=\"color: #ffff00; text-decoration-color: #ffff00\">│</span>                                                                                                                 <span style=\"color: #ffff00; text-decoration-color: #ffff00\">│</span>\n",
       "<span style=\"color: #ffff00; text-decoration-color: #ffff00\">│</span> 3. Town of Tekoa v. Reilly: This case is discussing property tax exemptions, which may be pertinent if there's  <span style=\"color: #ffff00; text-decoration-color: #ffff00\">│</span>\n",
       "<span style=\"color: #ffff00; text-decoration-color: #ffff00\">│</span> a connection to property involved in the loan default. (Washington Appellate Reports volume 196, Page 136)      <span style=\"color: #ffff00; text-decoration-color: #ffff00\">│</span>\n",
       "<span style=\"color: #ffff00; text-decoration-color: #ffff00\">│</span> [Source](https://static.case.law/wash-app/196.pdf))                                                             <span style=\"color: #ffff00; text-decoration-color: #ffff00\">│</span>\n",
       "<span style=\"color: #ffff00; text-decoration-color: #ffff00\">│</span>                                                                                                                 <span style=\"color: #ffff00; text-decoration-color: #ffff00\">│</span>\n",
       "<span style=\"color: #ffff00; text-decoration-color: #ffff00\">│</span> These cases may give some insight into handling similar situations involving loan defaults. Please provide more <span style=\"color: #ffff00; text-decoration-color: #ffff00\">│</span>\n",
       "<span style=\"color: #ffff00; text-decoration-color: #ffff00\">│</span> specific details if you need cases relating to a particular aspect of loan default.                             <span style=\"color: #ffff00; text-decoration-color: #ffff00\">│</span>\n",
       "<span style=\"color: #ffff00; text-decoration-color: #ffff00\">│</span>                                                                                                                 <span style=\"color: #ffff00; text-decoration-color: #ffff00\">│</span>\n",
       "<span style=\"color: #ffff00; text-decoration-color: #ffff00\">╰─────────────────────────────────────────────────────────────────────────────────────────────────────────────────╯</span>\n",
       "</pre>\n"
      ],
      "text/plain": [
       "\u001b[93m╭─\u001b[0m\u001b[93m─────────────────────────────────────\u001b[0m\u001b[93m Reply to 'cases about loan default' \u001b[0m\u001b[93m─────────────────────────────────────\u001b[0m\u001b[93m─╮\u001b[0m\n",
       "\u001b[93m│\u001b[0m                                                                                                                 \u001b[93m│\u001b[0m\n",
       "\u001b[93m│\u001b[0m Here are some cases that discuss issues of loan default:                                                        \u001b[93m│\u001b[0m\n",
       "\u001b[93m│\u001b[0m                                                                                                                 \u001b[93m│\u001b[0m\n",
       "\u001b[93m│\u001b[0m 1. v. Stump: The case examines a rule in a particular context, considering related provisions and the whole     \u001b[93m│\u001b[0m\n",
       "\u001b[93m│\u001b[0m statutory or rule-making scheme. (Washington Appellate Reports volume 196, Page 684)                            \u001b[93m│\u001b[0m\n",
       "\u001b[93m│\u001b[0m [Source](https://static.case.law/wash-app/196.pdf)                                                              \u001b[93m│\u001b[0m\n",
       "\u001b[93m│\u001b[0m                                                                                                                 \u001b[93m│\u001b[0m\n",
       "\u001b[93m│\u001b[0m 2. Hassan Farah et al., v. Hertz Transporting, Inc., et al.: The details of this case aren't provided in the    \u001b[93m│\u001b[0m\n",
       "\u001b[93m│\u001b[0m given excerpt but it might be relevant for you to look up more details. (Washington Appellate Reports volume    \u001b[93m│\u001b[0m\n",
       "\u001b[93m│\u001b[0m 196, Page 205) [Source](https://static.case.law/wash-app/196.pdf)                                               \u001b[93m│\u001b[0m\n",
       "\u001b[93m│\u001b[0m                                                                                                                 \u001b[93m│\u001b[0m\n",
       "\u001b[93m│\u001b[0m 3. Town of Tekoa v. Reilly: This case is discussing property tax exemptions, which may be pertinent if there's  \u001b[93m│\u001b[0m\n",
       "\u001b[93m│\u001b[0m a connection to property involved in the loan default. (Washington Appellate Reports volume 196, Page 136)      \u001b[93m│\u001b[0m\n",
       "\u001b[93m│\u001b[0m [Source](https://static.case.law/wash-app/196.pdf))                                                             \u001b[93m│\u001b[0m\n",
       "\u001b[93m│\u001b[0m                                                                                                                 \u001b[93m│\u001b[0m\n",
       "\u001b[93m│\u001b[0m These cases may give some insight into handling similar situations involving loan defaults. Please provide more \u001b[93m│\u001b[0m\n",
       "\u001b[93m│\u001b[0m specific details if you need cases relating to a particular aspect of loan default.                             \u001b[93m│\u001b[0m\n",
       "\u001b[93m│\u001b[0m                                                                                                                 \u001b[93m│\u001b[0m\n",
       "\u001b[93m╰─────────────────────────────────────────────────────────────────────────────────────────────────────────────────╯\u001b[0m\n"
      ]
     },
     "metadata": {},
     "output_type": "display_data"
    }
   ],
   "source": [
    "from openai import OpenAI\n",
    "from rich.panel import Panel\n",
    "from rich.text import Text\n",
    "\n",
    "client = OpenAI()\n",
    "system_message = \"\"\"\n",
    "You are a paralegal specialist. \n",
    "### YOUR CODE HERE ###\n",
    "### YOUR CODE HERE ###\n",
    "\"\"\"\n",
    "completion = client.chat.completions.create(\n",
    "    model=\"gpt-4\",\n",
    "    messages=[\n",
    "        {\"role\": \"system\", \"content\": system_message},\n",
    "        {\"role\": \"user\", \"content\": query_text},\n",
    "        {\"role\": \"assistant\", \"content\": str(search_results)}\n",
    "    ]\n",
    ")\n",
    "\n",
    "response_text = Text(completion.choices[0].message.content)\n",
    "styled_panel = Panel(\n",
    "    response_text,\n",
    "    title=f\"Reply to '{query_text}'\",\n",
    "    expand=False,\n",
    "    border_style=\"bright_yellow\",\n",
    "    padding=(1, 1)\n",
    ")\n",
    "\n",
    "console.print(styled_panel)"
   ]
  },
  {
   "cell_type": "code",
   "execution_count": null,
   "metadata": {},
   "outputs": [],
   "source": []
  }
 ],
 "metadata": {
  "kernelspec": {
   "display_name": ".venv",
   "language": "python",
   "name": "python3"
  },
  "language_info": {
   "codemirror_mode": {
    "name": "ipython",
    "version": 3
   },
   "file_extension": ".py",
   "mimetype": "text/x-python",
   "name": "python",
   "nbconvert_exporter": "python",
   "pygments_lexer": "ipython3",
   "version": "3.11.0"
  }
 },
 "nbformat": 4,
 "nbformat_minor": 2
}
